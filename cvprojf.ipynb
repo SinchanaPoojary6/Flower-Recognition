{
 "cells": [
  {
   "cell_type": "code",
   "execution_count": 1,
   "id": "3bd5b2eb",
   "metadata": {},
   "outputs": [],
   "source": [
    "#importing libraries\n",
    "import tensorflow as tf\n",
    "import numpy as np\n",
    "from keras.preprocessing.image import ImageDataGenerator"
   ]
  },
  {
   "cell_type": "code",
   "execution_count": 2,
   "id": "a5ee9ae6",
   "metadata": {},
   "outputs": [],
   "source": [
    "import numpy as np\n",
    "from keras.preprocessing.image import ImageDataGenerator"
   ]
  },
  {
   "cell_type": "code",
   "execution_count": 3,
   "id": "3e9ae75b",
   "metadata": {},
   "outputs": [],
   "source": [
    "import os\n",
    "os.environ['KMP_DUPLICATE_LIB_OK']='True'"
   ]
  },
  {
   "cell_type": "code",
   "execution_count": 4,
   "id": "9df7c133",
   "metadata": {},
   "outputs": [
    {
     "name": "stdout",
     "output_type": "stream",
     "text": [
      "Found 4039 images belonging to 5 classes.\n"
     ]
    }
   ],
   "source": [
    "#data preprocessing\n",
    "#training the image processing\n",
    "train_datagen = ImageDataGenerator(\n",
    "    rescale=1./255,\n",
    "    shear_range=0.2,\n",
    "    zoom_range=0.2,\n",
    "    horizontal_flip=True)\n",
    "training_set = train_datagen.flow_from_directory(\n",
    "    'flower_recog/training_set',\n",
    "      target_size=(64, 64),\n",
    "     batch_size=32,\n",
    "     class_mode='categorical')"
   ]
  },
  {
   "cell_type": "code",
   "execution_count": 5,
   "id": "e0b37932",
   "metadata": {},
   "outputs": [
    {
     "name": "stdout",
     "output_type": "stream",
     "text": [
      "Found 2526 images belonging to 5 classes.\n"
     ]
    }
   ],
   "source": [
    "#test image processing\n",
    "test_datagen = ImageDataGenerator(\n",
    "    rescale=1./255)\n",
    "test_set = test_datagen.flow_from_directory(\n",
    "'flower_recog/test_set',\n",
    "target_size=(64,64),\n",
    "batch_size=32,\n",
    "class_mode='categorical')"
   ]
  },
  {
   "cell_type": "code",
   "execution_count": 6,
   "id": "11c51d00",
   "metadata": {},
   "outputs": [],
   "source": [
    "#building model\n",
    "cnn = tf.keras.models.Sequential()"
   ]
  },
  {
   "cell_type": "code",
   "execution_count": 7,
   "id": "ca048f69",
   "metadata": {},
   "outputs": [],
   "source": [
    "#building convolution layer\n",
    "cnn.add(tf.keras.layers.Conv2D(filters=64, kernel_size=3,activation='relu',input_shape=[64,64,3]))\n",
    "cnn.add(tf.keras.layers.MaxPool2D(pool_size=2,strides=2))"
   ]
  },
  {
   "cell_type": "code",
   "execution_count": 8,
   "id": "e30fdf02",
   "metadata": {},
   "outputs": [],
   "source": [
    "#output of the prev layer is given to this \n",
    "cnn.add(tf.keras.layers.Conv2D(filters=64 , kernel_size=3 , activation='relu' ))\n",
    "cnn.add(tf.keras.layers.MaxPool2D(pool_size=2 , strides=2))"
   ]
  },
  {
   "cell_type": "code",
   "execution_count": 9,
   "id": "871ae84e",
   "metadata": {},
   "outputs": [],
   "source": [
    "cnn.add(tf.keras.layers.Dropout(0.5))"
   ]
  },
  {
   "cell_type": "code",
   "execution_count": 10,
   "id": "b9603b37",
   "metadata": {},
   "outputs": [],
   "source": [
    "cnn.add(tf.keras.layers.Flatten())"
   ]
  },
  {
   "cell_type": "code",
   "execution_count": 11,
   "id": "43ac74d6",
   "metadata": {},
   "outputs": [],
   "source": [
    "cnn.add(tf.keras.layers.Dense(units=128, activation='relu'))"
   ]
  },
  {
   "cell_type": "code",
   "execution_count": 12,
   "id": "287607c9",
   "metadata": {},
   "outputs": [],
   "source": [
    "cnn.add(tf.keras.layers.Dense(units=5 , activation='softmax'))"
   ]
  },
  {
   "cell_type": "code",
   "execution_count": 13,
   "id": "c37bad04",
   "metadata": {},
   "outputs": [],
   "source": [
    "cnn.compile(optimizer = 'rmsprop' , loss = 'categorical_crossentropy' , metrics = ['accuracy'])"
   ]
  },
  {
   "cell_type": "code",
   "execution_count": null,
   "id": "28dcf580",
   "metadata": {},
   "outputs": [
    {
     "name": "stdout",
     "output_type": "stream",
     "text": [
      "Epoch 1/30\n",
      "127/127 [==============================] - 163s 1s/step - loss: 1.3355 - accuracy: 0.4345 - val_loss: 1.0589 - val_accuracy: 0.6101\n",
      "Epoch 2/30\n",
      "127/127 [==============================] - 78s 611ms/step - loss: 1.0729 - accuracy: 0.5751 - val_loss: 0.8853 - val_accuracy: 0.6793\n",
      "Epoch 3/30\n",
      "127/127 [==============================] - 85s 671ms/step - loss: 0.9804 - accuracy: 0.6162 - val_loss: 0.8265 - val_accuracy: 0.7011\n",
      "Epoch 4/30\n",
      "127/127 [==============================] - 75s 594ms/step - loss: 0.9091 - accuracy: 0.6462 - val_loss: 0.7510 - val_accuracy: 0.7177\n",
      "Epoch 5/30\n",
      "127/127 [==============================] - 85s 672ms/step - loss: 0.8665 - accuracy: 0.6603 - val_loss: 0.8356 - val_accuracy: 0.6671\n",
      "Epoch 6/30\n",
      "127/127 [==============================] - 84s 658ms/step - loss: 0.8200 - accuracy: 0.6781 - val_loss: 0.6588 - val_accuracy: 0.7458\n",
      "Epoch 7/30\n",
      "127/127 [==============================] - 83s 651ms/step - loss: 0.7869 - accuracy: 0.6962 - val_loss: 0.6769 - val_accuracy: 0.7399\n",
      "Epoch 8/30\n",
      "127/127 [==============================] - 87s 687ms/step - loss: 0.7453 - accuracy: 0.7066 - val_loss: 0.5708 - val_accuracy: 0.7811\n",
      "Epoch 9/30\n",
      "127/127 [==============================] - 79s 625ms/step - loss: 0.7122 - accuracy: 0.7267 - val_loss: 0.6144 - val_accuracy: 0.7557\n",
      "Epoch 10/30\n",
      "127/127 [==============================] - 74s 582ms/step - loss: 0.6859 - accuracy: 0.7356 - val_loss: 0.5883 - val_accuracy: 0.7815\n",
      "Epoch 11/30\n",
      "127/127 [==============================] - 87s 683ms/step - loss: 0.6572 - accuracy: 0.7457 - val_loss: 0.9572 - val_accuracy: 0.6615\n",
      "Epoch 12/30\n",
      "127/127 [==============================] - 96s 758ms/step - loss: 0.6318 - accuracy: 0.7601 - val_loss: 0.5841 - val_accuracy: 0.7890\n",
      "Epoch 13/30\n",
      "127/127 [==============================] - 83s 650ms/step - loss: 0.6011 - accuracy: 0.7707 - val_loss: 0.4663 - val_accuracy: 0.8270\n",
      "Epoch 14/30\n",
      "127/127 [==============================] - 83s 658ms/step - loss: 0.5852 - accuracy: 0.7804 - val_loss: 0.4531 - val_accuracy: 0.8219\n",
      "Epoch 15/30\n",
      "127/127 [==============================] - 82s 646ms/step - loss: 0.5740 - accuracy: 0.7826 - val_loss: 0.5016 - val_accuracy: 0.8088\n",
      "Epoch 16/30\n",
      "127/127 [==============================] - 86s 680ms/step - loss: 0.5334 - accuracy: 0.8022 - val_loss: 0.3750 - val_accuracy: 0.8630\n",
      "Epoch 17/30\n",
      "127/127 [==============================] - 87s 688ms/step - loss: 0.5189 - accuracy: 0.8081 - val_loss: 0.3966 - val_accuracy: 0.8591\n",
      "Epoch 18/30\n",
      "127/127 [==============================] - 84s 662ms/step - loss: 0.5218 - accuracy: 0.8079 - val_loss: 0.4029 - val_accuracy: 0.8519\n",
      "Epoch 19/30\n",
      "127/127 [==============================] - 84s 662ms/step - loss: 0.4901 - accuracy: 0.8136 - val_loss: 0.6212 - val_accuracy: 0.7704\n",
      "Epoch 20/30\n",
      "127/127 [==============================] - 76s 600ms/step - loss: 0.4796 - accuracy: 0.8217 - val_loss: 0.3154 - val_accuracy: 0.8990\n",
      "Epoch 21/30\n",
      "127/127 [==============================] - 81s 637ms/step - loss: 0.4654 - accuracy: 0.8230 - val_loss: 0.3123 - val_accuracy: 0.8927\n",
      "Epoch 22/30\n",
      "127/127 [==============================] - 93s 732ms/step - loss: 0.4297 - accuracy: 0.8371 - val_loss: 0.3161 - val_accuracy: 0.8943\n",
      "Epoch 23/30\n",
      "127/127 [==============================] - 78s 612ms/step - loss: 0.4254 - accuracy: 0.8430 - val_loss: 0.2829 - val_accuracy: 0.9050\n",
      "Epoch 24/30\n",
      "127/127 [==============================] - 77s 604ms/step - loss: 0.3985 - accuracy: 0.8502 - val_loss: 0.2543 - val_accuracy: 0.9161\n",
      "Epoch 25/30\n",
      " 37/127 [=======>......................] - ETA: 3:44:12 - loss: 0.3990 - accuracy: 0.8581"
     ]
    }
   ],
   "source": [
    "cnn.fit(x = training_set , validation_data = test_set , epochs = 30)"
   ]
  },
  {
   "cell_type": "code",
   "execution_count": null,
   "id": "c488d41e",
   "metadata": {},
   "outputs": [],
   "source": [
    "#preprocess new image\n",
    "from keras.preprocessing import image\n",
    "test_image = tf.keras.utils.load_img('pred/dandelion.jpg',target_size=(64,64))\n",
    "test_image = tf.keras.utils.img_to_array(test_image)\n",
    "test_image = np.expand_dims(test_image,axis=0)\n",
    "result = cnn.predict(test_image)\n",
    "training_set.class_indices"
   ]
  },
  {
   "cell_type": "code",
   "execution_count": null,
   "id": "e7faf899",
   "metadata": {},
   "outputs": [],
   "source": [
    "import cv2\n",
    "cv2.destroyAllWindows()\n",
    "cam = cv2.VideoCapture(0,cv2.CAP_DSHOW)\n",
    "\n",
    "cv2.namedWindow(\"ABC\")\n",
    "\n",
    "def display1(image_name):\n",
    "    test_image = tf.keras.utils.load_img(image_name,target_size=(64,64))\n",
    "    test_image = tf.keras.utils.img_to_array(test_image)\n",
    "    test_image = np.expand_dims(test_image,axis=0)\n",
    "    result = cnn.predict(test_image)\n",
    "    training_set.class_indices\n",
    "\n",
    "    if result[0][0]==1:\n",
    "        print('Daisy')\n",
    "    elif result[0][1]==1:\n",
    "        print('Dandelion')\n",
    "    elif result[0][2]==1:\n",
    "        print('Rose')\n",
    "    elif result[0][3]==1:\n",
    "        print('SunFlower')\n",
    "    elif result[0][4]==1:\n",
    "        print(\"Tulip\")\n",
    "\n",
    "img_counter = 0\n",
    "\n",
    "while True:\n",
    "    ret,frame = cam.read()\n",
    "    \n",
    "    if not ret:\n",
    "        print(\"failed to grab frame\")\n",
    "        break\n",
    "    \n",
    "    cv2.imshow(\"test\", frame)\n",
    "    \n",
    "    k=cv2.waitKey(1)\n",
    "    \n",
    "    if k%256 == 27:\n",
    "        print(\"Escape hit\")\n",
    "        break\n",
    "        \n",
    "    elif k%256 == 32:\n",
    "        img_name = f\"opencv_frame_{img_counter}.png\"\n",
    "        cv2.imwrite(img_name,frame)\n",
    "        display1(img_name)\n",
    "       \n",
    "cam.release()\n",
    "cv2.destroyAllWindows()"
   ]
  },
  {
   "cell_type": "code",
   "execution_count": 42,
   "id": "2774e50c",
   "metadata": {},
   "outputs": [
    {
     "name": "stdout",
     "output_type": "stream",
     "text": [
      "Dandelion\n"
     ]
    }
   ],
   "source": [
    "if result[0][0]==1:\n",
    "    print('Daisy')\n",
    "elif result[0][1]==1:\n",
    "    print('Dandelion')\n",
    "elif result[0][2]==1:\n",
    "    print('Rose')\n",
    "elif result[0][3]==1:\n",
    "    print('SunFlower')\n",
    "elif result[0][4]==1:\n",
    "    print(\"Tulip\")"
   ]
  },
  {
   "cell_type": "code",
   "execution_count": null,
   "id": "864c2f7a",
   "metadata": {},
   "outputs": [],
   "source": []
  },
  {
   "cell_type": "code",
   "execution_count": null,
   "id": "5633f697",
   "metadata": {},
   "outputs": [],
   "source": []
  }
 ],
 "metadata": {
  "kernelspec": {
   "display_name": "Python 3 (ipykernel)",
   "language": "python",
   "name": "python3"
  },
  "language_info": {
   "codemirror_mode": {
    "name": "ipython",
    "version": 3
   },
   "file_extension": ".py",
   "mimetype": "text/x-python",
   "name": "python",
   "nbconvert_exporter": "python",
   "pygments_lexer": "ipython3",
   "version": "3.10.9"
  }
 },
 "nbformat": 4,
 "nbformat_minor": 5
}
